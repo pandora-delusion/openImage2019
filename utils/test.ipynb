{
 "cells": [
  {
   "cell_type": "code",
   "execution_count": 4,
   "metadata": {},
   "outputs": [
    {
     "data": {
      "text/html": [
       "<div>\n",
       "<style scoped>\n",
       "    .dataframe tbody tr th:only-of-type {\n",
       "        vertical-align: middle;\n",
       "    }\n",
       "\n",
       "    .dataframe tbody tr th {\n",
       "        vertical-align: top;\n",
       "    }\n",
       "\n",
       "    .dataframe thead th {\n",
       "        text-align: right;\n",
       "    }\n",
       "</style>\n",
       "<table border=\"1\" class=\"dataframe\">\n",
       "  <thead>\n",
       "    <tr style=\"text-align: right;\">\n",
       "      <th></th>\n",
       "      <th>ImageID</th>\n",
       "      <th>LabelName</th>\n",
       "      <th>XMin</th>\n",
       "      <th>XMax</th>\n",
       "      <th>YMin</th>\n",
       "      <th>YMax</th>\n",
       "      <th>IsGroupOf</th>\n",
       "    </tr>\n",
       "  </thead>\n",
       "  <tbody>\n",
       "    <tr>\n",
       "      <th>10792</th>\n",
       "      <td>0bd94459858954ac</td>\n",
       "      <td>/m/0n28_</td>\n",
       "      <td>0.132612</td>\n",
       "      <td>0.913397</td>\n",
       "      <td>0.226506</td>\n",
       "      <td>0.848193</td>\n",
       "      <td>0</td>\n",
       "    </tr>\n",
       "  </tbody>\n",
       "</table>\n",
       "</div>"
      ],
      "text/plain": [
       "                ImageID LabelName      XMin      XMax      YMin      YMax  \\\n",
       "10792  0bd94459858954ac  /m/0n28_  0.132612  0.913397  0.226506  0.848193   \n",
       "\n",
       "       IsGroupOf  \n",
       "10792          0  "
      ]
     },
     "execution_count": 4,
     "metadata": {},
     "output_type": "execute_result"
    }
   ],
   "source": [
    "import pandas as pd\n",
    "import os\n",
    "%matplotlib inline\n",
    "import numpy as np\n",
    "\n",
    "columns = [\"XMin\", \"XMax\", \"YMin\", \"YMax\", \"IsOccluded\", \"IsTruncated\", \n",
    "                    \"IsGroupOf\", \"IsDepiction\", \"IsInside\"]\n",
    "dir = os.path.abspath(\"..\")\n",
    "import time\n",
    "starttime = time.time()\n",
    "file = \"/datasets/challenge-2019-validation-detection-bbox.csv\"\n",
    "# data = pd.read_csv(dir+file, \n",
    "#                   converters={\"ImageID\": str,\n",
    "#                               \"LabelName\": str,\n",
    "#                               \"XMin\": float,\n",
    "#                               \"XMax\": float,\n",
    "#                               \"YMin\": float,\n",
    "#                               \"YMax\": float})\n",
    "data = pd.read_csv(dir+file)\n",
    "data[data[\"ImageID\"] == \"0bd94459858954ac\"]"
   ]
  },
  {
   "cell_type": "code",
   "execution_count": 2,
   "metadata": {},
   "outputs": [
    {
     "ename": "NameError",
     "evalue": "name 'pd' is not defined",
     "output_type": "error",
     "traceback": [
      "\u001b[0;31m---------------------------------------------------------------------------\u001b[0m",
      "\u001b[0;31mNameError\u001b[0m                                 Traceback (most recent call last)",
      "\u001b[0;32m<ipython-input-2-ece03aae38fb>\u001b[0m in \u001b[0;36m<module>\u001b[0;34m()\u001b[0m\n\u001b[1;32m      6\u001b[0m \u001b[0;32mimport\u001b[0m \u001b[0mtime\u001b[0m\u001b[0;34m\u001b[0m\u001b[0m\n\u001b[1;32m      7\u001b[0m \u001b[0mstarttime\u001b[0m \u001b[0;34m=\u001b[0m \u001b[0mtime\u001b[0m\u001b[0;34m.\u001b[0m\u001b[0mtime\u001b[0m\u001b[0;34m(\u001b[0m\u001b[0;34m)\u001b[0m\u001b[0;34m\u001b[0m\u001b[0m\n\u001b[0;32m----> 8\u001b[0;31m data_gen = pd.read_csv(dir+file, iterator=True, chunksize=10000, \n\u001b[0m\u001b[1;32m      9\u001b[0m                   converters={\"ImageID\": str,\n\u001b[1;32m     10\u001b[0m                               \u001b[0;34m\"LabelName\"\u001b[0m\u001b[0;34m:\u001b[0m \u001b[0mstr\u001b[0m\u001b[0;34m,\u001b[0m\u001b[0;34m\u001b[0m\u001b[0m\n",
      "\u001b[0;31mNameError\u001b[0m: name 'pd' is not defined"
     ]
    }
   ],
   "source": [
    "# import os\n",
    "# label_path = os.listdir(os.path.abspath(\"..\")+\"/data/train/labels\")\n",
    "# print(len(label_path))\n",
    "# image_path = os.listdir(os.path.abspath(\"..\")+\"/datasets/images/train\")\n",
    "# print(len(image_path))\n",
    "import time\n",
    "starttime = time.time()\n",
    "data_gen = pd.read_csv(dir+file, iterator=True, chunksize=10000, \n",
    "                  converters={\"ImageID\": str,\n",
    "                              \"LabelName\": str,\n",
    "                              \"XMin\": float,\n",
    "                              \"XMax\": float,\n",
    "                              \"YMin\": float,\n",
    "                              \"YMax\": float,\n",
    "                              \"IsOccluded\": bool,\n",
    "                              \"IsTruncated\": bool,\n",
    "                              \"IsGroupOf\": bool,\n",
    "                              \"IsDepiction\": bool,\n",
    "                              \"IsInside\": bool})\n",
    "print(\"Load\")\n",
    "columns = [\"ImageID\", \"LabelName\", \"XMin\", \"XMax\", \"YMin\", \"YMax\", \"IsOccluded\", \"IsTruncated\", \n",
    "                    \"IsGroupOf\", \"IsDepiction\", \"IsInside\"]\n",
    "temp = pd.DataFrame(columns=columns)\n",
    "for aslice in data_gen:\n",
    "    batch_data = aslice[aslice[\"ImageID\"]==\"000002b66c9c498e\"]\n",
    "    if batch_data.shape[0] <= 0:\n",
    "        continue\n",
    "    temp = temp.append(batch_data[columns])\n",
    "# for name in temp[\"LabelName\"]:\n",
    "#     print(name)\n",
    "endtime = time.time()\n",
    "print(endtime-starttime)"
   ]
  },
  {
   "cell_type": "code",
   "execution_count": 5,
   "metadata": {},
   "outputs": [
    {
     "data": {
      "text/plain": [
       "106610"
      ]
     },
     "execution_count": 5,
     "metadata": {},
     "output_type": "execute_result"
    }
   ],
   "source": [
    "# path = \"I:\\\\openimage\\\\train\\\\train_0\"\n",
    "path = \"/media/user/WD10EZEX/openImage/train/train_6\"\n",
    "files = os.listdir(path)\n",
    "len(files)"
   ]
  },
  {
   "cell_type": "code",
   "execution_count": 45,
   "metadata": {},
   "outputs": [
    {
     "data": {
      "text/plain": [
       "<function logging.config.dictConfig(config)>"
      ]
     },
     "execution_count": 45,
     "metadata": {},
     "output_type": "execute_result"
    }
   ],
   "source": [
    "import logging.config\n",
    "logging.config.dictConfig"
   ]
  },
  {
   "cell_type": "code",
   "execution_count": 64,
   "metadata": {},
   "outputs": [
    {
     "name": "stdout",
     "output_type": "stream",
     "text": [
      "[]\n",
      "3.10538911819458\n"
     ]
    }
   ],
   "source": [
    "import time\n",
    "import os\n",
    "start = time.time()\n",
    "# data1 = pd.read_csv(dir+\"\\\\datasets\\\\bbox\\\\\"+\"challenge-2019-train-detection-bbox_5.csv\")\n",
    "# print(data1.shape[0])\n",
    "# end = time.time()\n",
    "path = os.listdir(dir+\"\\\\datasets\\\\bbox\")\n",
    "num = 0\n",
    "for afile in path:\n",
    "    temp = pd.read_csv(dir+\"\\\\datasets\\\\bbox\\\\\"+afile)\n",
    "    break\n",
    "print(temp[temp[\"ImageID\"] == \"000a2cf2ac516a22\"].values)\n",
    "end = time.time()\n",
    "print(end-start)"
   ]
  },
  {
   "cell_type": "code",
   "execution_count": null,
   "metadata": {},
   "outputs": [],
   "source": []
  }
 ],
 "metadata": {
  "kernelspec": {
   "display_name": "Python 3",
   "language": "python",
   "name": "python3"
  },
  "language_info": {
   "codemirror_mode": {
    "name": "ipython",
    "version": 3
   },
   "file_extension": ".py",
   "mimetype": "text/x-python",
   "name": "python",
   "nbconvert_exporter": "python",
   "pygments_lexer": "ipython3",
   "version": "3.6.8"
  }
 },
 "nbformat": 4,
 "nbformat_minor": 1
}
